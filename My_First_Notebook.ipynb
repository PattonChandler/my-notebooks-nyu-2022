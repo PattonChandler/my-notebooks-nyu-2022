{
  "nbformat": 4,
  "nbformat_minor": 0,
  "metadata": {
    "colab": {
      "name": "My First Notebook",
      "provenance": [],
      "authorship_tag": "ABX9TyMGlWz62Wq9wf/ByOubO2F9",
      "include_colab_link": true
    },
    "kernelspec": {
      "name": "python3",
      "display_name": "Python 3"
    },
    "language_info": {
      "name": "python"
    }
  },
  "cells": [
    {
      "cell_type": "markdown",
      "metadata": {
        "id": "view-in-github",
        "colab_type": "text"
      },
      "source": [
        "<a href=\"https://colab.research.google.com/github/PattonChandler/my-notebooks-nyu-2022/blob/main/My_First_Notebook.ipynb\" target=\"_parent\"><img src=\"https://colab.research.google.com/assets/colab-badge.svg\" alt=\"Open In Colab\"/></a>"
      ]
    },
    {
      "cell_type": "code",
      "source": [
        "# This is some example Python code\n",
        "# These lines starting with \"#\" are \"comments\"\n",
        "# Remember \"#\" means something different in Markdown than it does in Python\n",
        "\n",
        "print(\"HELLO WORLD!\")\n",
        "\n",
        "x = 2 + 2\n",
        "print(x)"
      ],
      "metadata": {
        "colab": {
          "base_uri": "https://localhost:8080/"
        },
        "id": "0qtqP3OAwenQ",
        "outputId": "f0fd6bbd-9582-4457-f37c-d643a3415cca"
      },
      "execution_count": 1,
      "outputs": [
        {
          "output_type": "stream",
          "name": "stdout",
          "text": [
            "HELLO WORLD!\n",
            "4\n"
          ]
        }
      ]
    },
    {
      "cell_type": "markdown",
      "source": [
        "This is some text.\n",
        "\n",
        "We can write any language (like english)."
      ],
      "metadata": {
        "id": "J4Cs5jBYwe2Z"
      }
    },
    {
      "cell_type": "markdown",
      "source": [
        "# My Heading\n",
        "## Heading Level 2\n",
        "### Heading Level 3\n",
        "Normal text.\n",
        "\n",
        "Here is a list:\n",
        "+ Item 1\n",
        "+Item 2\n",
        "+Item 3\n",
        "\n",
        "Numbered list:\n",
        "1. Item 1\n",
        "2. Item 2\n",
        "3. Item 3\n",
        "\n",
        "This is a link:\n",
        "[Google](https://www.google.com/)\n",
        "\n",
        "```\n",
        "Print (\"Hello\")\n",
        "```\n",
        "\n",
        "\n"
      ],
      "metadata": {
        "id": "PPe2P7YMxR8J"
      }
    }
  ]
}